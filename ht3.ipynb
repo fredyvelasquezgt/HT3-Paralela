{
  "nbformat": 4,
  "nbformat_minor": 0,
  "metadata": {
    "colab": {
      "provenance": [],
      "machine_shape": "hm",
      "gpuType": "V100"
    },
    "kernelspec": {
      "name": "python3",
      "display_name": "Python 3"
    },
    "language_info": {
      "name": "python"
    },
    "accelerator": "GPU"
  },
  "cells": [
    {
      "cell_type": "code",
      "execution_count": 9,
      "metadata": {
        "colab": {
          "base_uri": "https://localhost:8080/"
        },
        "id": "wrjOvlzNlbVU",
        "outputId": "972eba84-9e22-4b1f-e30d-021b7dbdf635"
      },
      "outputs": [
        {
          "output_type": "stream",
          "name": "stdout",
          "text": [
            "nvcc: NVIDIA (R) Cuda compiler driver\n",
            "Copyright (c) 2005-2022 NVIDIA Corporation\n",
            "Built on Wed_Sep_21_10:33:58_PDT_2022\n",
            "Cuda compilation tools, release 11.8, V11.8.89\n",
            "Build cuda_11.8.r11.8/compiler.31833905_0\n"
          ]
        }
      ],
      "source": [
        "!nvcc --version\n"
      ]
    },
    {
      "cell_type": "code",
      "source": [
        "!pip install git+https://github.com/andreinechaev/nvcc4jupyter.git\n"
      ],
      "metadata": {
        "colab": {
          "base_uri": "https://localhost:8080/"
        },
        "id": "6vhlPYuFl99t",
        "outputId": "1a74b8a6-5666-4667-8650-1ba5ccae97b8"
      },
      "execution_count": 10,
      "outputs": [
        {
          "output_type": "stream",
          "name": "stdout",
          "text": [
            "Collecting git+https://github.com/andreinechaev/nvcc4jupyter.git\n",
            "  Cloning https://github.com/andreinechaev/nvcc4jupyter.git to /tmp/pip-req-build-o90vcmob\n",
            "  Running command git clone --filter=blob:none --quiet https://github.com/andreinechaev/nvcc4jupyter.git /tmp/pip-req-build-o90vcmob\n",
            "  Resolved https://github.com/andreinechaev/nvcc4jupyter.git to commit 0a71d56e5dce3ff1f0dd2c47c29367629262f527\n",
            "  Preparing metadata (setup.py) ... \u001b[?25l\u001b[?25hdone\n",
            "Building wheels for collected packages: NVCCPlugin\n",
            "  Building wheel for NVCCPlugin (setup.py) ... \u001b[?25l\u001b[?25hdone\n",
            "  Created wheel for NVCCPlugin: filename=NVCCPlugin-0.0.2-py3-none-any.whl size=4295 sha256=705c026ded9d12d59936efdfcda04cc707876149a7563377c31a67b34e4e4d5c\n",
            "  Stored in directory: /tmp/pip-ephem-wheel-cache-mt7bjm76/wheels/a8/b9/18/23f8ef71ceb0f63297dd1903aedd067e6243a68ea756d6feea\n",
            "Successfully built NVCCPlugin\n",
            "Installing collected packages: NVCCPlugin\n",
            "Successfully installed NVCCPlugin-0.0.2\n"
          ]
        }
      ]
    },
    {
      "cell_type": "code",
      "source": [
        "%load_ext nvcc_plugin\n"
      ],
      "metadata": {
        "colab": {
          "base_uri": "https://localhost:8080/"
        },
        "id": "FR6P9k3PmAvh",
        "outputId": "8a60a9f5-4925-4f26-bd8f-bbe1c82ada94"
      },
      "execution_count": 11,
      "outputs": [
        {
          "output_type": "stream",
          "name": "stdout",
          "text": [
            "created output directory at /content/src\n",
            "Out bin /content/result.out\n"
          ]
        }
      ]
    },
    {
      "cell_type": "code",
      "source": [
        "%%cu\n",
        "#include <stdio.h>\n",
        "#include <cuda.h>\n",
        "\n",
        "__global__ void hello()\n",
        "{\n",
        "   int globalID = blockIdx.x * blockDim.x + threadIdx.x; // Calcula el ID global del hilo\n",
        "   if(globalID == 2047) // Sólo el último hilo imprime el mensaje especial\n",
        "     printf(\"Hello world from thread %d of block %d. Soy Fredy y mi carnet es 201011\\n\", threadIdx.x, blockIdx.x);\n",
        "   else\n",
        "     printf(\"Hello world from thread %d of block %d\\n\", threadIdx.x, blockIdx.x);\n",
        "}\n",
        "\n",
        "int main()\n",
        "{\n",
        "  hello<<<2,1024>>>(); // 2 bloques, 1024 hilos por bloque\n",
        "  cudaDeviceSynchronize();\n",
        "  return 0;\n",
        "}\n"
      ],
      "metadata": {
        "id": "lTLvlkytmHLn"
      },
      "execution_count": null,
      "outputs": []
    },
    {
      "cell_type": "code",
      "source": [
        "%%cu\n",
        "#include <stdio.h>\n",
        "#include <cuda.h>\n",
        "\n",
        "__global__ void hello()\n",
        "{\n",
        "   int globalID = blockIdx.x * blockDim.x + threadIdx.x; // Calcula el ID global del hilo\n",
        "   if(globalID == 2047) // Sólo el último hilo imprime el mensaje especial\n",
        "     printf(\"Hello world from thread %d of block %d. Soy Fredy y mi carnet es 201011\\n\", threadIdx.x, blockIdx.x);\n",
        "   else\n",
        "     printf(\"Hello world from thread %d of block %d\\n\", threadIdx.x, blockIdx.x);\n",
        "}\n",
        "\n",
        "int main()\n",
        "{\n",
        "  hello<<<2,1024>>>(); // 2 bloques, 1024 hilos por bloque\n",
        "  cudaDeviceSynchronize();\n",
        "  return 0;\n",
        "}\n",
        "\n"
      ],
      "metadata": {
        "id": "itj0Q97FphcI"
      },
      "execution_count": null,
      "outputs": []
    },
    {
      "cell_type": "code",
      "source": [
        "%%cu\n",
        "#include <stdio.h>\n",
        "#include <cuda.h>\n",
        "\n",
        "__global__ void hello ()\n",
        "{\n",
        "  int myID = ( blockIdx.z * gridDim.x * gridDim.y  +\n",
        "               blockIdx.y * gridDim.x +\n",
        "               blockIdx.x ) * blockDim.x +\n",
        "               threadIdx.x;\n",
        "\n",
        "  printf (\"Hello world from %i\\n\", myID);\n",
        "}\n",
        "\n",
        "int main ()\n",
        "{\n",
        "  dim3 g (4, 3, 2);\n",
        "  hello <<< g, 10 >>> ();\n",
        "  cudaDeviceSynchronize();\n",
        "  return 0;\n",
        "}\n"
      ],
      "metadata": {
        "id": "5hIKhqy7j6GY"
      },
      "execution_count": null,
      "outputs": []
    },
    {
      "cell_type": "code",
      "source": [
        "%%cu\n",
        "/*\n",
        " ============================================================================\n",
        " Author        : G. Barlas\n",
        " Version       : 1.0\n",
        " Last modified : December 2014\n",
        " License       : Released under the GNU GPL 3.0\n",
        " Description   :\n",
        " To build use  : nvcc hello2.cu -o hello2 -arch=sm_20\n",
        " ============================================================================\n",
        " */\n",
        "#include <stdio.h>\n",
        "#include <cuda.h>\n",
        "\n",
        "__global__ void hello ()\n",
        "{\n",
        "  // Fórmula genérica para calcular el ID global\n",
        "  int myID = ( blockIdx.z * gridDim.x * gridDim.y  +\n",
        "               blockIdx.y * gridDim.x +\n",
        "               blockIdx.x ) * blockDim.x * blockDim.y * blockDim.z +\n",
        "               threadIdx.z *  blockDim.x * blockDim.y +\n",
        "               threadIdx.y * blockDim.x +\n",
        "               threadIdx.x;\n",
        "\n",
        "  printf (\"Hello world from %i. [Fredy 201011]\\n\", myID); // Modificación aquí para agregar nombre y carné\n",
        "}\n",
        "\n",
        "int main ()\n",
        "{\n",
        "  dim3 g (4, 2);      // Modificación aquí\n",
        "  dim3 b (32, 16);    // Modificación aquí\n",
        "\n",
        "  hello <<< g, b >>> ();\n",
        "  cudaDeviceSynchronize();  // Usando cudaDeviceSynchronize ya que cudaThreadSynchronize está obsoleto\n",
        "  return 0;\n",
        "}\n"
      ],
      "metadata": {
        "id": "kLUS7nUdmazD"
      },
      "execution_count": null,
      "outputs": []
    },
    {
      "cell_type": "code",
      "source": [
        "%%cu\n",
        "/*\n",
        " ============================================================================\n",
        " Author        : G. Barlas\n",
        " Version       : 1.0\n",
        " Last modified : December 2014\n",
        " License       : Released under the GNU GPL 3.0\n",
        " Description   :\n",
        " To build use  : nvcc hello2.cu -o hello2 -arch=sm_20\n",
        " ============================================================================\n",
        " */\n",
        "#include <stdio.h>\n",
        "#include <cuda.h>\n",
        "\n",
        "__global__ void hello ()\n",
        "{\n",
        "  // Fórmula genérica para calcular el ID global\n",
        "  int myID = ( blockIdx.z * gridDim.x * gridDim.y  +\n",
        "               blockIdx.y * gridDim.x +\n",
        "               blockIdx.x ) * blockDim.x * blockDim.y * blockDim.z +\n",
        "               threadIdx.z *  blockDim.x * blockDim.y +\n",
        "               threadIdx.y * blockDim.x +\n",
        "               threadIdx.x;\n",
        "\n",
        "  printf (\"Hello world from %i. [Fredy 201011]\\n\", myID); // Modificación aquí para agregar nombre y carné\n",
        "}\n",
        "\n",
        "int main ()\n",
        "{\n",
        "  dim3 g (4, 2);      // Modificación aquí\n",
        "  dim3 b (32, 16);    // Modificación aquí\n",
        "\n",
        "  hello <<< g, b >>> ();\n",
        "  cudaDeviceSynchronize();  // Usando cudaDeviceSynchronize ya que cudaThreadSynchronize está obsoleto\n",
        "  return 0;\n",
        "}\n"
      ],
      "metadata": {
        "id": "8f6OJDTBnwfe"
      },
      "execution_count": null,
      "outputs": []
    },
    {
      "cell_type": "code",
      "source": [
        "%%cu\n",
        "#include <stdio.h>\n",
        "#include <cuda.h>\n",
        "\n",
        "// Variable global para el máximo ID\n",
        "__device__ int maxGlobalID = 0;\n",
        "\n",
        "__global__ void hello ()\n",
        "{\n",
        "    // Fórmula genérica para calcular el ID global\n",
        "    int myID = ( blockIdx.z * gridDim.x * gridDim.y  +\n",
        "               blockIdx.y * gridDim.x +\n",
        "               blockIdx.x ) * blockDim.x * blockDim.y * blockDim.z +\n",
        "               threadIdx.z *  blockDim.x * blockDim.y +\n",
        "               threadIdx.y * blockDim.x +\n",
        "               threadIdx.x;\n",
        "\n",
        "    // Actualizar maxGlobalID de manera atómica\n",
        "    atomicMax(&maxGlobalID, myID);\n",
        "\n",
        "    printf (\"Hello world from %i. [Fredy 201011]\\n\", myID);\n",
        "}\n",
        "\n",
        "int main ()\n",
        "{\n",
        "    dim3 g (4, 2);\n",
        "    dim3 b (32, 16);\n",
        "\n",
        "    hello <<< g, b >>> ();\n",
        "    cudaDeviceSynchronize();  // Sincronización\n",
        "\n",
        "    // Copiar el valor del máximo ID al host y mostrarlo\n",
        "    int hostMaxID;\n",
        "    cudaMemcpyFromSymbol(&hostMaxID, maxGlobalID, sizeof(int));\n",
        "    printf(\"Max Global ID is: %d\\n\", hostMaxID);\n",
        "\n",
        "    return 0;\n",
        "}\n"
      ],
      "metadata": {
        "id": "eZPLtdC-pJ8t"
      },
      "execution_count": null,
      "outputs": []
    },
    {
      "cell_type": "code",
      "source": [
        "%%cu\n",
        "#include <stdio.h>\n",
        "#include <cuda.h>\n",
        "\n",
        "__device__ int maxGlobalID = 0;\n",
        "\n",
        "__global__ void hello ()\n",
        "{\n",
        "    // Fórmula genérica para calcular el ID global\n",
        "    int myID = ( blockIdx.z * gridDim.x * gridDim.y  +\n",
        "               blockIdx.y * gridDim.x +\n",
        "               blockIdx.x ) * blockDim.x * blockDim.y * blockDim.z +\n",
        "               threadIdx.z *  blockDim.x * blockDim.y +\n",
        "               threadIdx.y * blockDim.x +\n",
        "               threadIdx.x;\n",
        "\n",
        "    // Actualizar maxGlobalID de manera atómica\n",
        "    atomicMax(&maxGlobalID, myID);\n",
        "\n",
        "    if(myID == 99999) // Solo imprime si es el ID global máximo\n",
        "    {\n",
        "        printf(\"Hello world from the max ID: %i. [Fredy 201011]\\n\", myID);\n",
        "        printf(\"Grid configuration: [%d, %d, %d]\\n\", gridDim.x, gridDim.y, gridDim.z);\n",
        "        printf(\"Block configuration: [%d, %d, %d]\\n\", blockDim.x, blockDim.y, blockDim.z);\n",
        "        printf(\"Block Index: [%d, %d, %d] and Thread Index: [%d, %d, %d]\\n\", blockIdx.x, blockIdx.y, blockIdx.z, threadIdx.x, threadIdx.y, threadIdx.z);\n",
        "    }\n",
        "}\n",
        "\n",
        "int main ()\n",
        "{\n",
        "    dim3 g (100, 1, 1); // 100 bloques\n",
        "    dim3 b (1000, 1, 1); // 1000 hilos por bloque\n",
        "\n",
        "    hello <<< g, b >>> ();\n",
        "    cudaDeviceSynchronize();\n",
        "\n",
        "    return 0;\n",
        "}\n"
      ],
      "metadata": {
        "colab": {
          "base_uri": "https://localhost:8080/"
        },
        "id": "m2pA_kP4pyxa",
        "outputId": "93948287-1083-45ce-e361-d03ad5d53eab"
      },
      "execution_count": 19,
      "outputs": [
        {
          "output_type": "stream",
          "name": "stdout",
          "text": [
            "Hello world from the max ID: 99999. [Fredy 201011]\n",
            "Grid configuration: [100, 1, 1]\n",
            "Block configuration: [1000, 1, 1]\n",
            "Block Index: [99, 0, 0] and Thread Index: [999, 0, 0]\n",
            "\n"
          ]
        }
      ]
    }
  ]
}